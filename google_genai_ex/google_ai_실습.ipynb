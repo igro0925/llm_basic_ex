{
 "cells": [
  {
   "cell_type": "markdown",
   "id": "cc9176a4",
   "metadata": {},
   "source": [
    "- 환경변수 로딩"
   ]
  },
  {
   "cell_type": "code",
   "execution_count": 1,
   "id": "3261b28f",
   "metadata": {},
   "outputs": [],
   "source": [
    "from dotenv import load_dotenv\n",
    "import os\n",
    "\n",
    "# .env 파일에 저장된 환경변수 로드\n",
    "load_dotenv(override=True)\n",
    "GEMINI_API_KEY = os.getenv(\"GEMINI_API_KEY\")\n",
    "\n",
    "\n",
    "from openai import OpenAI\n",
    "\n",
    "# openai api 인증 및 openai 객체 생성\n",
    "client = OpenAI(api_key=GEMINI_API_KEY)"
   ]
  },
  {
   "cell_type": "code",
   "execution_count": 2,
   "id": "364094e8",
   "metadata": {},
   "outputs": [
    {
     "name": "stdout",
     "output_type": "stream",
     "text": [
      "OCR (Optical Character Recognition, 광학 문자 인식) 기술에 대해 요청하신 내용을 자세히 설명해 드리겠습니다.\n",
      "\n",
      "---\n",
      "\n",
      "### 1. OCR이란?\n",
      "\n",
      "**OCR (Optical Character Recognition, 광학 문자 인식)**은 이미지 파일(스캔 문서, 사진, PDF 등) 내에 포함된 텍스트를 인식하여 기계가 읽을 수 있는(편집 가능한) 디지털 텍스트 데이터로 변환하는 기술입니다.\n",
      "\n",
      "**핵심 개념:**\n",
      "*   **입력:** 종이 문서, 스캔 파일, 사진, PDF 등 텍스트가 포함된 이미지.\n",
      "*   **처리:** OCR 엔진이 이미지 속 문자(알파벳, 숫자, 한글, 한자 등)의 모양을 분석하고, 해당 문자를 미리 학습된 패턴과 비교하여 식별합니다. 이 과정에서 이미지 전처리, 레이아웃 분석, 문자 분할, 특징 추출, 분류 등의 단계를 거칩니다.\n",
      "*   **출력:** 인식된 텍스트가 포함된 워드 문서, 텍스트 파일, 검색 가능한 PDF 등.\n",
      "\n",
      "**왜 필요한가?**\n",
      "이미지 속 텍스트는 컴퓨터에게 단순한 픽셀 데이터일 뿐입니다. 워드프로세서처럼 내용을 편집하거나 검색할 수 없죠. OCR은 이 픽셀 데이터를 의미 있는 텍스트 정보로 변환하여, 사용자가 이미지 속 정보를 쉽게 활용하고 관리할 수 있도록 해줍니다.\n",
      "\n",
      "**기술 발전:**\n",
      "초기 OCR은 특정 폰트나 깔끔한 문서에만 정확도가 높았지만, 최근에는 딥러닝(Deep Learning) 기술의 발달로 다양한 폰트, 필기체, 복잡한 배경, 심지어 기울어지거나 손상된 문서에서도 매우 높은 인식률을 자랑합니다.\n",
      "\n",
      "---\n",
      "\n",
      "### 2. OCR 활용 분야\n",
      "\n",
      "OCR 기술은 우리 생활과 산업 전반에 걸쳐 광범위하게 활용되고 있으며, 데이터 처리 자동화의 핵심 기술 중 하나입니다.\n",
      "\n",
      "*   **문서 디지털화 및 관리:**\n",
      "    *   **종이 문서의 디지털 전환:** 기존의 수많은 종이 문서(계약서, 보고서, 회의록 등)를 스캔하여 디지털 파일로 변환하고, OCR을 통해 검색 가능한 텍스트로 만들어 보관 및 검색을 용이하게 합니다.\n",
      "    *   **전자 기록 보관:** 법적, 규제적 요구 사항에 따라 문서의 무결성을 유지하며 효율적으로 보관합니다.\n",
      "*   **사무 자동화 (RPA):**\n",
      "    *   **영수증 및 송장 처리:** 기업 회계 부서에서 수많은 영수증, 송장, 거래 명세서 등의 이미지를 OCR로 자동 인식하여 필요한 데이터(금액, 날짜, 공급자 정보 등)를 추출하고 ERP 시스템에 입력합니다.\n",
      "    *   **계약서 및 신청서 처리:** 고객이 제출한 계약서나 신청서에서 이름, 주소, 주민등록번호 등 핵심 정보를 자동으로 추출하여 데이터베이스에 입력합니다.\n",
      "*   **금융 및 보험:**\n",
      "    *   **신분증 및 운전면허증 인식:** 비대면 계좌 개설, 본인 인증 시 신분증 사진을 OCR로 인식하여 개인 정보를 자동으로 입력하고 진위 여부를 확인합니다.\n",
      "    *   **보험금 청구 서류:** 병원 진료 기록, 영수증 등을 OCR로 인식하여 보험금 청구 절차를 간소화합니다.\n",
      "    *   **수표 및 신용카드 정보 인식:** 수표의 금액이나 카드 정보를 자동으로 인식합니다.\n",
      "*   **물류 및 유통:**\n",
      "    *   **운송장 및 라벨 인식:** 택배 운송장, 상품 라벨, 컨테이너 번호 등을 OCR로 인식하여 물품의 입출고 및 이동을 추적합니다.\n",
      "    *   **차량 번호판 인식 (ANPR):** 주차 관리, 과속 단속, 도난 차량 추적 등에 활용됩니다.\n",
      "*   **의료 분야:**\n",
      "    *   **환자 기록 디지털화:** 과거 종이로 된 환자 차트, 처방전, 검사 결과 등을 OCR로 디지털화하여 의료 정보 시스템에 통합합니다.\n",
      "    *   **의료 영상 판독 보조:** 영상에 포함된 텍스트 정보(예: X-ray 사진의 환자 정보)를 인식합니다.\n",
      "*   **교육 분야:**\n",
      "    *   **교재 및 서적 디지털화:** 도서관의 장서를 디지털화하거나 학생들의 학습 자료를 검색 가능한 텍스트로 변환합니다.\n",
      "    *   **시험지 채점 보조:** OMR 카드뿐만 아니라, 주관식 답안지 일부를 OCR로 인식하여 채점을 보조할 수 있습니다.\n",
      "*   **장애인 보조 기술:**\n",
      "    *   **텍스트 음성 변환 (TTS):** 시각 장애인이 이미지 속 텍스트를 읽을 수 있도록 OCR로 인식된 텍스트를 음성으로 변환해 줍니다.\n",
      "*   **모바일 앱 및 서비스:**\n",
      "    *   **명함 스캐너 앱:** 명함을 촬영하여 이름, 전화번호, 회사명 등을 자동으로 인식하여 주소록에 저장합니다.\n",
      "    *   **번역 앱:** 카메라로 외국어 간판이나 메뉴를 촬영하면 OCR로 텍스트를 인식하고 실시간으로 번역해 줍니다.\n",
      "    *   **영수증 관리 앱:** 영수증을 촬영하여 지출 내역을 자동으로 기록합니다.\n",
      "\n",
      "---\n",
      "\n",
      "### 3. OCR 활용 라이브러리\n",
      "\n",
      "OCR 기능을 구현하는 데 사용되는 대표적인 오픈소스 라이브러리 및 도구들은 다음과 같습니다.\n",
      "\n",
      "*   **Tesseract OCR:**\n",
      "    *   **설명:** 구글에서 후원하는 가장 유명하고 널리 사용되는 오픈소스 OCR 엔진입니다. 100개 이상의 언어를 지원하며, 지속적으로 개발되고 있습니다. 다양한 프로그래밍 언어에서 래퍼(Wrapper) 라이브러리를 통해 사용할 수 있습니다.\n",
      "    *   **장점:** 높은 인식률 (특히 깔끔한 문서), 다국어 지원, 무료, 활발한 커뮤니티.\n",
      "    *   **단점:** 이미지 전처리가 중요하며, 복잡한 레이아웃이나 손글씨, 노이즈가 많은 이미지에서는 성능이 저하될 수 있습니다. 설치 및 설정이 다소 복잡할 수 있습니다.\n",
      "    *   **활용:** Python의 `PyTesseract`와 같은 래퍼 라이브러리를 통해 쉽게 접근할 수 있습니다.\n",
      "\n",
      "*   **PyTesseract:**\n",
      "    *   **설명:** Python에서 Tesseract OCR 엔진을 사용하기 위한 래퍼 라이브러리입니다. Tesseract가 설치되어 있어야 작동합니다.\n",
      "    *   **장점:** Python 개발자가 Tesseract의 강력한 기능을 쉽게 활용할 수 있게 해줍니다.\n",
      "    *   **단점:** Tesseract 자체의 단점을 공유하며, Tesseract 엔진 설치가 필수적입니다.\n",
      "\n",
      "*   **EasyOCR:**\n",
      "    *   **설명:** 딥러닝 기반의 오픈소스 OCR 라이브러리로, Python으로 구현되었습니다. 비교적 설치와 사용이 간편하며, 다양한 언어(한국어 포함)를 지원합니다.\n",
      "    *   **장점:** 빠른 설치 및 쉬운 사용법, Tesseract보다 복잡한 이미지나 다양한 폰트에서 좋은 성능을 보일 때가 있습니다. GPU 가속을 지원하여 빠른 처리가 가능합니다.\n",
      "    *   **단점:** Tesseract만큼 오랫동안 검증되지는 않았으며, 특정 케이스에서는 Tesseract보다 성능이 떨어질 수도 있습니다.\n",
      "\n",
      "*   **Keras-OCR:**\n",
      "    *   **설명:** Keras 딥러닝 프레임워크를 기반으로 구축된 OCR 라이브러리입니다. 텍스트 감지(Text Detection)와 인식(Text Recognition) 모델을 통합하여 제공합니다.\n",
      "    *   **장점:** 엔드-투-엔드(end-to-end) OCR 파이프라인 제공, 비교적 좋은 성능, 딥러닝 모델에 익숙한 사용자에게 친숙.\n",
      "    *   **단점:** Tesseract나 EasyOCR에 비해 설치 및 환경 설정이 더 복잡할 수 있으며, 사용자가 직접 모델을 훈련하거나 미세 조정할 필요가 있을 수 있습니다.\n",
      "\n",
      "*   **OpenCV (Computer Vision Library):**\n",
      "    *   **설명:** 직접적인 OCR 라이브러리라기보다는, OCR 전처리 단계(이미지 노이즈 제거, 대비 조절, 회전 보정 등)에서 필수적으로 사용되는 컴퓨터 비전 라이브러리입니다.\n",
      "    *   **장점:** 이미지 처리의 강력한 기능 제공, 다양한 언어(Python, C++ 등) 지원, 무료.\n",
      "    *   **활용:** Tesseract나 다른 OCR 엔진의 입력 이미지 품질을 향상시키는 데 주로 사용됩니다.\n",
      "\n",
      "---\n",
      "\n",
      "### 4. 성능이 가장 좋은 OCR 서비스s\n",
      "\n",
      "\"가장 좋은\" OCR 서비스는 사용 사례, 데이터 유형, 비용, 통합 용이성 등에 따라 달라질 수 있지만, 일반적으로 딥러닝 기술과 방대한 학습 데이터를 기반으로 하는 클라우드 기반 서비스들이 매우 높은 정확도와 기능성을 제공합니다.\n",
      "\n",
      "**글로벌 선두 주자:**\n",
      "\n",
      "1.  **Google Cloud Vision AI (및 Document AI):**\n",
      "    *   **설명:** 구글의 강력한 머신러닝 기술을 기반으로 한 클라우드 서비스입니다. 일반적인 이미지 내 텍스트 인식은 물론, **Document AI**를 통해 송장, 영수증, 계약서 등 특정 문서 유형에서 구조화된 데이터를 추출하는 데 특화된 솔루션을 제공합니다.\n",
      "    *   **장점:** 매우 높은 정확도, 뛰어난 다국어 지원, 다양한 문서 유형 처리, Google Cloud 생태계와의 완벽한 통합. 특히 복잡한 테이블, 폼 등에서 데이터 추출 능력이 탁월합니다.\n",
      "    *   **활용:** 영수증/송장 자동 처리, 신분증 스캔, 다양한 문서의 데이터 추출.\n",
      "\n",
      "2.  **Amazon Textract:**\n",
      "    *   **설명:** AWS(Amazon Web Services)에서 제공하는 OCR 서비스입니다. 일반적인 텍스트 인식 외에, 스캔된 문서에서 양식(Form)과 테이블(Table)의 데이터를 자동으로 추출하고 구조화된 형식으로 제공하는 데 강점을 가집니다.\n",
      "    *   **장점:** 높은 정확도, 특히 정형/비정형 문서의 양식 및 테이블 데이터 추출에 특화, AWS 서비스와의 쉬운 통합.\n",
      "    *   **활용:** 재무 문서 처리, 의료 기록, 법률 문서 등에서 정형화된 데이터 추출.\n",
      "\n",
      "3.  **Microsoft Azure Cognitive Services (Computer Vision 및 Form Recognizer):**\n",
      "    *   **설명:** 마이크로소프트 애저에서 제공하는 AI 서비스 모음입니다.\n",
      "        *   **Computer Vision:** 이미지 내 일반적인 텍스트 인식 기능을 제공합니다.\n",
      "        *   **Form Recognizer (문서 인텔리전스):** 송장, 영수증, 계약서 등 다양한 문서 유형에서 키-값 쌍, 테이블, 선택 표시 등 구조화된 정보를 추출하는 데 특화되어 있습니다. 사용자 지정 모델 훈련도 지원합니다.\n",
      "    *   **장점:** 높은 정확도, 다양한 언어 지원, Microsoft 생태계(Office 365, Power Platform 등)와의 유연한 통합, 사용자 지정 모델 훈련을 통한 특정 문서 유형 최적화.\n",
      "    *   **활용:** 기업 내 다양한 비즈니스 문서 자동화, 데이터 추출.\n",
      "\n",
      "**한국어 특화 및 국내 서비스:**\n",
      "\n",
      "4.  **네이버 Clova OCR (Clova OCR):**\n",
      "    *   **설명:** 네이버에서 개발한 딥러닝 기반 OCR 서비스로, 특히 한국어 인식에서 매우 높은 정확도를 자랑합니다. 다양한 글씨체와 복잡한 배경에서도 뛰어난 성능을 보입니다.\n",
      "    *   **장점:** 한국어 인식 최고 수준의 정확도, 다국어 지원, 다양한 문서 템플릿(신분증, 명함, 영수증 등)을 지원하는 특화된 API 제공.\n",
      "    *   **활용:** 국내 기업 문서 처리, 신분증/명함 스캔, 영수증 자동화, 모바일 서비스 연동.\n",
      "\n",
      "5.  **카카오 OCR:**\n",
      "    *   **설명:** 카카오에서 제공하는 OCR 서비스로, Clova OCR과 유사하게 한국어 인식에서 강점을 가집니다. 카카오 플랫폼과의 연동이 용이합니다.\n",
      "    *   **장점:** 한국어 인식 정확도 높음, 카카오톡 채널 등 카카오 서비스와의 연동 용이.\n",
      "    *   **활용:** 카카오톡 기반 서비스, 국내 사용자 대상 앱 개발.\n",
      "\n",
      "**결론적으로,** 일반적인 텍스트 인식 성능은 위에서 언급된 클라우드 서비스들이 모두 매우 뛰어나지만, **특정 문서 유형(송장, 계약서, 신분증 등)에서 구조화된 데이터를 추출해야 한다면 Google Document AI, Amazon Textract, Azure Form Recognizer, 네이버 Clova OCR의 전문화된 API를 고려하는 것이 좋습니다.** 한국어 문서의 경우 네이버 Clova OCR이 특히 강점을 보입니다.\n",
      "\n",
      "---\n"
     ]
    }
   ],
   "source": [
    "from google import genai\n",
    "\n",
    "client = genai.Client()\n",
    "\n",
    "response = client.models.generate_content(\n",
    "    model=\"gemini-2.5-flash\",\n",
    "    contents= \"\"\"\n",
    "    OCR 기술에 대해 다음을 설명해줘 \n",
    "    - OCR이란? \n",
    "    - OCR활용분야 \n",
    "    - OCR활용 라이브러리 \n",
    "    - 성능이 가장 좋은 OCR 서비스s\n",
    "    \"\"\"\n",
    ")\n",
    "\n",
    "print(response.text)"
   ]
  },
  {
   "cell_type": "markdown",
   "id": "c21fdc63",
   "metadata": {},
   "source": [
    "- 이미지 생성"
   ]
  },
  {
   "cell_type": "code",
   "execution_count": null,
   "id": "3624a34e",
   "metadata": {},
   "outputs": [
    {
     "name": "stdout",
     "output_type": "stream",
     "text": [
      "I will create a 3D rendered image of a whimsical scene: a pink pig with small, feathery white wings and a dapper grey top hat soaring through the air above a bright and cheerful futuristic city. The city will feature sleek, modern buildings in pastel colors, interspersed with lush green parks and flying vehicles zipping between structures. The overall atmosphere will be one of lightheartedness and technological harmony.\n",
      "\n"
     ]
    }
   ],
   "source": [
    "from google.genai import types\n",
    "from PIL import Image\n",
    "from io import BytesIO\n",
    "import base64\n",
    "\n",
    "client = genai.Client(api_key=GEMINI_API_KEY)\n",
    "\n",
    "contents = ('Hi, can you create a 3d rendered image of a pig '\n",
    "            'with wings and a top hat flying over a happy '\n",
    "            'futuristic scifi city with lots of greenery?')\n",
    "\n",
    "response = client.models.generate_content(\n",
    "    model=\"gemini-2.0-flash-preview-image-generation\",\n",
    "    contents=contents,\n",
    "    config=types.GenerateContentConfig(\n",
    "      response_modalities=['TEXT', 'IMAGE']\n",
    "    )\n",
    ")\n",
    "\n",
    "for part in response.candidates[0].content.parts:\n",
    "  if part.text is not None:\n",
    "    print(part.text)\n",
    "  elif part.inline_data is not None:\n",
    "    image = Image.open(BytesIO((part.inline_data.data)))\n",
    "    image.save('gemini-native-image.png')\n",
    "    image.show()"
   ]
  },
  {
   "cell_type": "markdown",
   "id": "52a6a582",
   "metadata": {},
   "source": [
    "- 이미지 편집"
   ]
  },
  {
   "cell_type": "code",
   "execution_count": 4,
   "id": "ffba215c",
   "metadata": {},
   "outputs": [
    {
     "name": "stdout",
     "output_type": "stream",
     "text": [
      "I will add a fluffy white llama with large, expressive eyes standing calmly beside you in the grassy field, ensuring it complements the natural lighting and peaceful atmosphere of the existing image.\n",
      "\n"
     ]
    }
   ],
   "source": [
    "from google import genai\n",
    "from google.genai import types\n",
    "from PIL import Image\n",
    "from io import BytesIO\n",
    "\n",
    "import PIL.Image\n",
    "\n",
    "image = PIL.Image.open('./imgs/lady.jpg')\n",
    "\n",
    "client = genai.Client(api_key=GEMINI_API_KEY)\n",
    "\n",
    "text_input = ('Hi, This is a picture of me.'\n",
    "            'Can you add a llama next to me?',)\n",
    "\n",
    "response = client.models.generate_content(\n",
    "    model=\"gemini-2.0-flash-preview-image-generation\",\n",
    "    contents=[text_input, image],\n",
    "    config=types.GenerateContentConfig(\n",
    "      response_modalities=['TEXT', 'IMAGE']\n",
    "    )\n",
    ")\n",
    "\n",
    "for part in response.candidates[0].content.parts:\n",
    "  if part.text is not None:\n",
    "    print(part.text)\n",
    "  elif part.inline_data is not None:\n",
    "    image = Image.open(BytesIO(part.inline_data.data))\n",
    "    image.show()"
   ]
  },
  {
   "cell_type": "markdown",
   "id": "534d5227",
   "metadata": {},
   "source": [
    "- 유튜브 영상 요약"
   ]
  },
  {
   "cell_type": "code",
   "execution_count": 5,
   "id": "06202a9e",
   "metadata": {},
   "outputs": [],
   "source": [
    "from google import genai\n",
    "\n",
    "client = genai.Client(api_key=GEMINI_API_KEY)\n",
    "\n",
    "response = client.models.generate_content(\n",
    "    model='models/gemini-2.0-flash',\n",
    "    contents=types.Content(\n",
    "        parts=[\n",
    "            types.Part(\n",
    "                # file_data=types.FileData(file_uri='https://www.youtube.com/watch?v=9hE5-98ZeCg')\n",
    "                file_data=types.FileData(file_uri='https://youtu.be/xemQowx3a-w?si=wvVMujuz2oswY-vh')\n",
    "            ),\n",
    "            types.Part(text='5개의 문장으로 요약해줘')\n",
    "        ]\n",
    "    )\n",
    ")"
   ]
  },
  {
   "cell_type": "code",
   "execution_count": 6,
   "id": "a88908bc",
   "metadata": {},
   "outputs": [
    {
     "name": "stdout",
     "output_type": "stream",
     "text": [
      "이 동영상은 구글 I/O 2024 키노트에서 발표된 내용을 요약 및 소개하고 있다.\n",
      "\n",
      "AI 모델과 에이전트 AI, AI 검색 서비스, 삼성 퀄컴과 협력하여 만든 프로젝트 무한 XR 디바이스 등, 발표 내용을 네 가지로 분류하였다.\n",
      "\n",
      "구글이 AI 모델을 전부 다 1등을 먹었다고 보고, Gemini를 활용하는 개발자 수가 증가하고, Gemini 앱 월간 활성 사용자가 4억 명을 돌파했다고 한다.\n",
      "\n",
      "Gemini 2.5 Pro Deep Think 모델이 TPU 버전 7까지 전기 요금을 많이 안 먹으면서도 돌릴 수 있도록, 미국 내 구글 AI Pro, Ultra 구독자 및 구글 원 사용자에게 제공될 예정이라고 한다.\n",
      "\n",
      "텍스트에서 동영상, 이미지 생성은 물론, Gemini live, 이미지 투 영상의 진화, 거기에 XR 디바이스까지, 구글이 정말 무서운 상황임을 강조한다.\n"
     ]
    }
   ],
   "source": [
    "print(response.text)"
   ]
  }
 ],
 "metadata": {
  "kernelspec": {
   "display_name": "llm_env",
   "language": "python",
   "name": "python3"
  },
  "language_info": {
   "codemirror_mode": {
    "name": "ipython",
    "version": 3
   },
   "file_extension": ".py",
   "mimetype": "text/x-python",
   "name": "python",
   "nbconvert_exporter": "python",
   "pygments_lexer": "ipython3",
   "version": "3.10.19"
  }
 },
 "nbformat": 4,
 "nbformat_minor": 5
}
