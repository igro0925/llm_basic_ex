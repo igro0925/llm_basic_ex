{
 "cells": [
  {
   "cell_type": "markdown",
   "id": "bf2e4431",
   "metadata": {},
   "source": [
    "# openai api key 테스트"
   ]
  },
  {
   "cell_type": "code",
   "execution_count": 9,
   "id": "7de6de29",
   "metadata": {},
   "outputs": [],
   "source": [
    "import os\n",
    "from dotenv import load_dotenv\n",
    "\n",
    "# .env 파일에 저장된 환경변수 로드\n",
    "load_dotenv(override=True)\n",
    "OPENAI_API_KEY = os.getenv(\"OPENAI_API_KEY\")"
   ]
  },
  {
   "cell_type": "markdown",
   "id": "25f3367d",
   "metadata": {},
   "source": [
    "## 라이브러리 로딩 및 객체 생성"
   ]
  },
  {
   "cell_type": "code",
   "execution_count": 10,
   "id": "47d683ea",
   "metadata": {},
   "outputs": [],
   "source": [
    "\n",
    "from openai import OpenAI\n",
    "\n",
    "# openai api 인증 및 openai 객체 생성\n",
    "client = OpenAI(api_key=OPENAI_API_KEY)"
   ]
  },
  {
   "cell_type": "markdown",
   "id": "ad2fcc18",
   "metadata": {},
   "source": [
    "# 챗봇 기본"
   ]
  },
  {
   "cell_type": "code",
   "execution_count": 17,
   "id": "0c7a78e0",
   "metadata": {},
   "outputs": [
    {
     "name": "stdout",
     "output_type": "stream",
     "text": [
      "message의 상태 :   [{'role': 'user', 'content': '장르 코믹영화, 나이는 20대 남성이고 주말에 볼만한 영화 추천해줘'}, {'role': 'assistant', 'content': \"코믹영화를 즐긴다면, '데드풀', '21점' 또는 '토이 스토리' 시리즈와 같은 영화들이 좋은 선택일 것입니다. 이 중에서 즐기실 수 있을 것 같은 작품을 골라서 보시는 것을 추천드립니다. 좋은 주말 보내세요!\"}]\n",
      "message의 상태 :   [{'role': 'user', 'content': '장르 코믹영화, 나이는 20대 남성이고 주말에 볼만한 영화 추천해줘'}, {'role': 'assistant', 'content': \"코믹영화를 즐긴다면, '데드풀', '21점' 또는 '토이 스토리' 시리즈와 같은 영화들이 좋은 선택일 것입니다. 이 중에서 즐기실 수 있을 것 같은 작품을 골라서 보시는 것을 추천드립니다. 좋은 주말 보내세요!\"}, {'role': 'user', 'content': '위에서 설명한 5번 영화에 대한 줄거리를 설명해줘.'}, {'role': 'assistant', 'content': '죄수로부터 변화된 변호사들이 설립한 변호인 사무소에서 일하는 변호사들은 사람들을 변호하고 그들의 인과관계를 뒤집는 데에 전념하고 있다. 그들은 변호사로서의 경력에도 소장의 경력에도 관심이 전혀 없으며 한편 성장하지 않은 사람들을 차별하여 식별한다. 그 중 5번 변호사는 악마로 인해 한 소녀에게 의해 유혈범죄를 저질러야 했던 비밀을 의식이 망설이는 것을 보고한 떄, 중독된 프로그램에 의해 당신이 지저분한 노인이라고 말했다.'}]\n",
      "message의 상태 :   [{'role': 'user', 'content': '장르 코믹영화, 나이는 20대 남성이고 주말에 볼만한 영화 추천해줘'}, {'role': 'assistant', 'content': \"코믹영화를 즐긴다면, '데드풀', '21점' 또는 '토이 스토리' 시리즈와 같은 영화들이 좋은 선택일 것입니다. 이 중에서 즐기실 수 있을 것 같은 작품을 골라서 보시는 것을 추천드립니다. 좋은 주말 보내세요!\"}, {'role': 'user', 'content': '위에서 설명한 5번 영화에 대한 줄거리를 설명해줘.'}, {'role': 'assistant', 'content': '죄수로부터 변화된 변호사들이 설립한 변호인 사무소에서 일하는 변호사들은 사람들을 변호하고 그들의 인과관계를 뒤집는 데에 전념하고 있다. 그들은 변호사로서의 경력에도 소장의 경력에도 관심이 전혀 없으며 한편 성장하지 않은 사람들을 차별하여 식별한다. 그 중 5번 변호사는 악마로 인해 한 소녀에게 의해 유혈범죄를 저질러야 했던 비밀을 의식이 망설이는 것을 보고한 떄, 중독된 프로그램에 의해 당신이 지저분한 노인이라고 말했다.'}, {'role': 'user', 'content': '나는 호러를 싫어하고 권선징악 코믹을 다시 추천해줘'}, {'role': 'assistant', 'content': '미안하지만, 호러 영화를 추천드리지 않도록 설정되어있습니다. 혹시 다른 장르의 영화나 다른 종류의 영화 추천이 필요하시다면 언제든지 말씀해주세요. 함께 더 즐거운 영화 추천을 하겠습니다.'}]\n"
     ]
    }
   ],
   "source": [
    "messages = []\n",
    "while True:\n",
    "    text = input(\"사용자(종료 : q) >>> \")\n",
    "    # 종료 조건\n",
    "    if text.lower() in ['q', 'ㅂ']:\n",
    "        break\n",
    "    messages.append(\n",
    "        {\n",
    "            \"role\": \"user\",\n",
    "            \"content\": text\n",
    "        }\n",
    "    )\n",
    "    # gpt 모델 챗 요청\n",
    "    completion = client.chat.completions.create(\n",
    "        model=\"gpt-3.5-turbo\",\n",
    "        messages=messages,  # 콤마 있어도 됨. 앞의 messages는 매개변수 이름, 뒤의 messages는 변수\n",
    "    )\n",
    "    # 응답 출력\n",
    "    chat_response = completion.choices[0].message.content\n",
    "    messages.append(\n",
    "        {\n",
    "            \"role\" : \"assistant\",\n",
    "            \"content\" : chat_response\n",
    "        }\n",
    "    )\n",
    "    print(\"message의 상태 :  \", messages)"
   ]
  },
  {
   "cell_type": "code",
   "execution_count": null,
   "id": "5bc67975",
   "metadata": {},
   "outputs": [],
   "source": [
    "# 장르 코믹영화, 나이는 20대 남성이고 주말에 볼만한 영화 추천해줘\n",
    "# 위에서 설명한 5번 영화에 대한 줄거리를 설명해줘. 이럼 전전의 답변을 기억 못함\n",
    "# 나는 호러를 싫어하고 권선징악 코믹을 다시 추천해줘"
   ]
  },
  {
   "cell_type": "markdown",
   "id": "33e03c89",
   "metadata": {},
   "source": [
    "# AI GPT 모델 대화 실행 테스트"
   ]
  },
  {
   "cell_type": "code",
   "execution_count": 18,
   "id": "116bbbad",
   "metadata": {},
   "outputs": [],
   "source": [
    "movie_prompt = \"\"\"당신은 영화 추천을 위해 훈련된 고도로 숙련된 AI입니다.\n",
    "내가 입력한 단어 또는 문장을 기반으로 영화를 추천해야 합니다.\n",
    "내가 입력한 단어 또는 문장에는 나의 관심사와 성별, 연령대, 지역 등의 개인정보가 포함될 수 있습니다.\n",
    "내가 어떤 영화의 제목을 입력하면 유사한 장르의 영화를 추천하세요.\n",
    "감독 또는 배우의 이름을 입력하면 그 배우가 참여한 다른 영화를 추천하세요.\n",
    "개인정보를 입력하면 그 그룹에서 인기있는 영화를 추천하세요.\n",
    "영화 추천은 3편~5편을 해주고, 목록 형식으로 추천해주세요.\n",
    "항상 마지막에 `더 많은 정보를 입력하겠습니까?`을 출력해서 영화 추천을 계속 할 지 말지를 결정할 수 있도록 해야 합니다.\n",
    "\"\"\""
   ]
  },
  {
   "cell_type": "code",
   "execution_count": null,
   "id": "4a62409c",
   "metadata": {},
   "outputs": [],
   "source": [
    "# chat ai 모델에 요청 및 응답받기\n",
    "completion = client.chat.completions.create(\n",
    "    model=\"gpt-3.5-turbo\",\n",
    "    messages=[\n",
    "        {\n",
    "            \"role\": \"system\",\n",
    "            \"content\": \"너는 영화 평론가야.\"\n",
    "        },\n",
    "        {\n",
    "            \"role\": \"user\",\n",
    "            \"content\": movie_prompt\n",
    "        }\n",
    "    ],\n",
    "    temperature=0.7\n",
    ")"
   ]
  },
  {
   "cell_type": "code",
   "execution_count": 25,
   "id": "d51212cf",
   "metadata": {},
   "outputs": [
    {
     "name": "stdout",
     "output_type": "stream",
     "text": [
      "안녕하세요! 영화 평가를 통해 최적의 추천을 제공하기 위해 노력하고 있습니다. 어떻게 도와드릴까요?\n"
     ]
    }
   ],
   "source": [
    "print(completion.choices[0].message.content)"
   ]
  },
  {
   "cell_type": "code",
   "execution_count": null,
   "id": "37898760",
   "metadata": {},
   "outputs": [],
   "source": [
    "# chat ai 모델에 요청 및 응답받기\n",
    "completion = client.chat.completions.create(\n",
    "    model=\"gpt-4o-mini\",\n",
    "    messages=[\n",
    "        {\n",
    "            \"role\": \"system\",\n",
    "            \"content\": \"너는 영화 평론가야.\"\n",
    "        },\n",
    "        {\n",
    "            \"role\": \"user\",\n",
    "            \"content\": movie_prompt\n",
    "        }\n",
    "    ],\n",
    "    temperature=0.7\n",
    ")"
   ]
  },
  {
   "cell_type": "code",
   "execution_count": 28,
   "id": "9ac12fe9",
   "metadata": {},
   "outputs": [
    {
     "name": "stdout",
     "output_type": "stream",
     "text": [
      "물론입니다! 당신이 입력하는 단어 또는 문장을 기반으로 영화를 추천해 드리겠습니다. 어떤 내용을 입력해 주시겠어요? \n",
      "\n",
      "더 많은 정보를 입력하겠습니까?\n"
     ]
    }
   ],
   "source": [
    "print(completion.choices[0].message.content)"
   ]
  },
  {
   "cell_type": "code",
   "execution_count": 29,
   "id": "2305d4fa",
   "metadata": {},
   "outputs": [],
   "source": [
    "# chat ai 모델에 요청 및 응답받기\n",
    "completion = client.chat.completions.create(\n",
    "    model=\"gpt-4\",\n",
    "    messages=[\n",
    "        {\n",
    "            \"role\": \"system\",\n",
    "            \"content\": \"너는 영화 평론가야.\"\n",
    "        },\n",
    "        {\n",
    "            \"role\": \"user\",\n",
    "            \"content\": movie_prompt\n",
    "        }\n",
    "    ],\n",
    "    temperature=0.7\n",
    ")"
   ]
  },
  {
   "cell_type": "code",
   "execution_count": 30,
   "id": "57b5b299",
   "metadata": {},
   "outputs": [
    {
     "name": "stdout",
     "output_type": "stream",
     "text": [
      "네, 이해했습니다. 영화 추천에 필요한 정보를 입력해주세요.\n"
     ]
    }
   ],
   "source": [
    "print(completion.choices[0].message.content)"
   ]
  },
  {
   "cell_type": "markdown",
   "id": "5b54049e",
   "metadata": {},
   "source": [
    "## 개인화된 영화 추천 챗봇\n",
    "- 멀티턴 챗봇\n",
    "- None Stream 형태"
   ]
  },
  {
   "cell_type": "code",
   "execution_count": 31,
   "id": "6969d59c",
   "metadata": {},
   "outputs": [],
   "source": [
    "movie_prompt = \"\"\"당신은 영화 추천을 위해 훈련된 고도로 숙련된 AI입니다.\n",
    "내가 입력한 단어 또는 문장을 기반으로 영화를 추천해야 합니다.\n",
    "내가 입력한 단어 또는 문장에는 나의 관심사와 성별, 연령대, 지역 등의 개인정보가 포함될 수 있습니다.\n",
    "내가 어떤 영화의 제목을 입력하면 유사한 장르의 영화를 추천하세요.\n",
    "감독 또는 배우의 이름을 입력하면 그 배우가 참여한 다른 영화를 추천하세요.\n",
    "개인정보를 입력하면 그 그룹에서 인기있는 영화를 추천하세요.\n",
    "영화 추천은 3편~5편을 해주고, 목록 형식으로 추천해주세요.\n",
    "항상 마지막에 `더 많은 정보를 입력하겠습니까?`을 출력해서 영화 추천을 계속 할 지 말지를 결정할 수 있도록 해야 합니다.\n",
    "\"\"\""
   ]
  },
  {
   "cell_type": "code",
   "execution_count": 32,
   "id": "3fb21553",
   "metadata": {},
   "outputs": [
    {
     "name": "stdout",
     "output_type": "stream",
     "text": [
      "안녕하세요! 어떤 종류의 영화를 찾고 계신가요, 아니면 특정 영화나 배우에 대해 알고 싶으신가요? 도와드리겠습니다!\n",
      "20대 남성분께서 주말에 즐길 수 있는 코믹 영화를 추천드리겠습니다!\n",
      "\n",
      "1. **슈퍼배드** (Despicable Me) - 악당 그루와 사랑스런 미니언들의 모험이 펼쳐지는 유쾌한 애니메이션 코미디입니다.\n",
      "2. **행오버** (The Hangover) - 라스베가스에서의 한밤 중의 파티 후 생기는 잊을 수 없는 모험을 그린 영화입니다.\n",
      "3. **21 점프 스트리트** (21 Jump Street) - 고등학교 잠입 임무를 받은 두 경찰의 이야기를 코믹하게 풀어낸 영화입니다.\n",
      "4. **스콧 필그림 vs. 더 월드** (Scott Pilgrim vs. the World) - 록밴드 기타리스트의 연애와 대결을 통한 이야기를 유머러스하게 다룬 영화입니다.\n",
      "5. **핫 퍼즈** (Hot Fuzz) - 편안한 시골 마을에서 벌어지는 의문의 연쇄 살인 사건을 해결해야 하는 경찰의 이야기를 담은 코미디입니다.\n",
      "\n",
      "이 영화들은 주말에 편안하게 즐기기에 적합하며, 웃음과 재미를 제공할 것입니다. 즐거운 시청 되시길 바랍니다!\n",
      "\n",
      "더 많은 정보를 입력하겠습니까?\n",
      "안녕하세요! 어떤 종류의 영화를 찾고 계신가요, 아니면 특정 영화나 배우에 대해 알고 싶으신가요? 도와드리겠습니다!\n",
      "**핫 퍼즈** (Hot Fuzz)는 에드가 라이트 감독이 연출하고 사이먼 페그와 닉 프로스트가 주연을 맡은 영화입니다. 2007년에 개봉한 이 영화는 흥미진진한 코미디 액션으로 큰 사랑을 받았습니다.\n",
      "\n",
      "줄거리는 다음과 같습니다:  \n",
      "런던의 유능한 경찰관 니콜라스 앤젤(사이먼 페그)은 그의 뛰어난 업무 성과로 인해 동료들에게 질투를 받아 사건이 적고 평화로운 시골 마을인 샌퍼드로 좌천됩니다. 이 작고 보기에 평화로운 마을에서 그는 새로운 파트너인 대니 버터먼(닉 프로스트)과 함께 일하게 됩니다. 처음에는 평온해 보이는 이 마을에서 앤젤은 점점 다양한 사고들과 의문의 사망 사례들이 사실은 끔직한 연쇄살인과 관련이 있음을 파악하기 시작합니다. 그 결과, 앤젤과 버터먼은 마을의 어두운 비밀을 밝혀내고 진실을 드러내는 대모험에 휘말리게 됩니다.\n",
      "\n",
      "이 영화는 전형적인 영국식 유머와 함께 미스터리와 스릴이 어우러져 있어, 사건을 해결해 나가는 과정에서 발생하는 다양한 코믹한 상황이 매력적입니다. 모험과 웃음이 가득한 이 영화는 장르를 넘나드는 이야기 구성으로 관객들에게 큰 재미를 선사합니다.\n",
      "\n",
      "더 많은 정보를 입력하겠습니까?\n",
      "호러를 피하면서 권선징악을 다루고 있는 코믹 영화를 추천드리겠습니다! 여기 몇 가지 영화를 추천해 드립니다:\n",
      "\n",
      "1. **킥애스** (Kick-Ass) - 평범한 청소년이 슈퍼히어로가 되기로 결심하고 범죄와 맞서 싸우는 과정을 유쾌하게 그린 영화입니다.\n",
      "2. **슈퍼히어로 무비** (Superhero Movie) - 다양한 유명 슈퍼히어로 영화를 패러디하며, 평범한 학생이 우연한 사고로 슈퍼 파워를 얻고 히어로로 변모하는 과정을 코믹하게 그린 영화입니다.\n",
      "3. **그의 이름은 짐카리** (Liar Liar) - 항상 거짓말을 하던 변호사가 아들의 소원 덕분에 24시간 동안 거짓말을 할 수 없게 되면서 벌어지는 소동을 담은 코미디 영화입니다.\n",
      "4. **메가마인드** (Megamind) - 악당이지만 결국은 선을 행하게 되는 주인공의 이야기를 다룬 애니메이션입니다. 코믹하면서도 따뜻한 메시지를 전달합니다.\n",
      "\n",
      "이 영화들 모두 권선징악의 주제를 유머러스하게 다루고 있으며, 즐거운 웃음과 긍정적인 메시지를 제공할 것입니다. 즐거운 시청 되시길 바랍니다!\n",
      "\n",
      "더 많은 정보를 입력하겠습니까?\n",
      "안녕하세요! 어떤 종류의 영화를 찾고 계신가요, 아니면 특정 영화나 배우에 대해 알고 싶으신가요? 도와드리겠습니다!\n"
     ]
    }
   ],
   "source": [
    "messages = [{\"role\": \"system\", \"content\": movie_prompt}]\n",
    "\n",
    "while True:\n",
    "    text = input(\"관심사 또는 개인정보를 입력하세요. (종료: 'q'): \")\n",
    "    if text.lower() in ['q', 'ㅂ']:\n",
    "        break\n",
    "\n",
    "    messages.append({\"role\": \"user\", \"content\": text})\n",
    "    response = client.chat.completions.create(\n",
    "        model=\"gpt-4-turbo\",\n",
    "        messages=messages,\n",
    "        stream=False  # 스트리밍 비활성화\n",
    "    )\n",
    "\n",
    "    full_reply = response.choices[0].message.content  # 전체 응답을 한 번에 가져옴\n",
    "    print(full_reply)\n",
    "\n",
    "    messages.append({\"role\": \"assistant\", \"content\": full_reply})"
   ]
  },
  {
   "cell_type": "code",
   "execution_count": null,
   "id": "2d68dcf2",
   "metadata": {},
   "outputs": [],
   "source": [
    "# 장르 코믹영화, 나이는 20대 남성이고 주말에 볼만한 영화 추천해줘\n",
    "# 위에서 설명한 5번 영화에 대한 줄거리를 설명해줘. \n",
    "# 나는 호러를 싫어하고 권선징악 코믹을 다시 추천해줘"
   ]
  },
  {
   "cell_type": "code",
   "execution_count": 34,
   "id": "fa81a7b7",
   "metadata": {},
   "outputs": [
    {
     "name": "stdout",
     "output_type": "stream",
     "text": [
      "20대 남성분이 주말에 즐길 수 있는 코미디 장르의 영화 추천 드리겠습니다:\n",
      "\n",
      "1. **슈퍼배드 (2010)** - 미니언들로 유명한 감동적이면서도 유쾌한 애니메이션.\n",
      "2. **21 점프 스트리트 (2012)** - 두 경찰이 고등학교로 잠입해 벌어지는 웃음 가득한 사건들을 다룬 영화.\n",
      "3. **그랜드 부다페스트 호텔 (2014)** - 유니크한 스타일과 재치 있는 대화가 돋보이는 웨스 앤더슨 감독의 작품.\n",
      "4. **행오버 (2009)** - 결혼 전날 밤, 라스베가스에서 벌어진 기상천외한 에피소드를 다룬 영화.\n",
      "5. **형 (2016)** - 다혈질 형과 천재 동생이 벌이는 흥미진진한 이야기.\n",
      "\n",
      "즐거운 주말 보내시길 바랍니다!\n",
      "\n",
      "더 많은 정보를 입력하겠습니까?**형 (2016)** 은 극과 극 성격을 가진 두 형제의 재회와 그들이 함께 겪는 갈등과 유대감을 그린 코미디 영화입니다. 주인공 '두식'은 비교적 실패한 삶을 살고 있는 형으로 화를 잘 내고 화통한 성격입니다. 반면에, 그의 동생 '두영'은 천재적인 두뇌를 가진 국가대표 주먹이자 장애를 가진 스포츠 선수입니다. 올림픽에 출전하고자 훈련 중인 두영이 갑작스럽게 무릎 부상을 당하면서, 오랫동안 연락하지 않았던 형 두식과 재회하게 됩니다.\n",
      "\n",
      "서로에 대한 오해와 불신이 많은 두 형제는 함께 살면서 여러 가지 상황과 갈등을 겪게 되지만, 점차 서로를 이해하며 진정한 형제애를 회복해 나갑니다. 영화는 가족 간의 사랑과 지지의 중요성을 유쾌하고 감동적으로 보여 줍니다.\n",
      "\n",
      "더 많은 정보를 입력하겠습니까?호러를 싫어하시고 권선징악 스타일의 코미디 영화를 좋아하신다면, 다음 영화들을 추천드립니다:\n",
      "\n",
      "1. **캡틴 언더팬츠: 더 퍼스트 에픽 무비 (2017)** - 두 소년이 학교 교장을 슈퍼히어로로 만들어 나쁜 녀석들과 싸우는 애니메이션 코미디.\n",
      "2. **스쿨 오브 락 (2003)** - 어린이들을 가르치며 자신의 음악 꿈을 포기하지 않는 주인공의 이야기를 그린 영화.\n",
      "3. **스파이 (2015)** - 한 평범한 여성이 특수 요원으로 변신해 악당들과 맞서는 유쾌하고 흥미진진한 스파이 코미디.\n",
      "4. **메가마인드 (2010)** - 나쁜 녀석이 지구의 영웅이 되어야 하는 상황을 유쾌하게 풀어낸 애니메이션.\n",
      "5. **가디언즈 오브 갤럭시 (2014)** - 이색적이고 색다른 영웅들이 악을 물리치며 우주를 구하는 모험을 그린 사이파이 코미디.\n",
      "\n",
      "이런 영화들은 긴장감은 적고 유머와 즐거운 요소가 많아 호러를 싫어하시는 분께 어울릴 것입니다. 즐거운 관람 되시기 바랍니다!\n",
      "\n",
      "더 많은 정보를 입력하겠습니까?"
     ]
    }
   ],
   "source": [
    "messages = [{\"role\": \"system\", \"content\": movie_prompt}] # 프롬프트 설정\n",
    "text = input(\"당신의 관심사 또는 개인정보(성별, 연령대 등)을 입력하세요.(종료는 `q` 입력): \")\n",
    "while True:\n",
    "    if text.lower() in ['q', 'ㅂ']: break # `q`, `Q`, `ㅂ`중 하나를 입력하면 종료\n",
    "    messages.append({\"role\":\"user\", \"content\":text}) # 관심정보를 메시지에 추가\n",
    "    response = client.chat.completions.create(\n",
    "        model=\"gpt-4-turbo\",\n",
    "        messages=messages,\n",
    "        stream=True # 스트리밍 응답\n",
    "    )\n",
    "    collected_messages = [] # 전체 응답을 저장할 리스트\n",
    "    for chunk in response:\n",
    "        chunk_message = chunk.choices[0].delta.content      # 청크 메시지 추출\n",
    "        collected_messages.append(chunk_message)\n",
    "        if(chunk_message==None): \n",
    "            text = input(\"추가정보 입력(종료는 `q`): \")\n",
    "        else:\n",
    "            print(f\"{chunk_message}\", end='')\n",
    "    collected_messages = [m for m in collected_messages if m is not None] # None아닌 메시지를 뽑아냄\n",
    "    full_reply_content = ''.join([m for m in collected_messages]) # 모든 청크 메시지를 연결\n",
    "\n",
    "    messages.append({\"role\":\"assistant\", \"content\": full_reply_content}) # 응답 메시지를 assistant에 저장"
   ]
  },
  {
   "cell_type": "code",
   "execution_count": null,
   "id": "5a3dd5b5",
   "metadata": {},
   "outputs": [],
   "source": [
    "\n"
   ]
  }
 ],
 "metadata": {
  "kernelspec": {
   "display_name": "llm_env",
   "language": "python",
   "name": "python3"
  },
  "language_info": {
   "codemirror_mode": {
    "name": "ipython",
    "version": 3
   },
   "file_extension": ".py",
   "mimetype": "text/x-python",
   "name": "python",
   "nbconvert_exporter": "python",
   "pygments_lexer": "ipython3",
   "version": "3.10.19"
  }
 },
 "nbformat": 4,
 "nbformat_minor": 5
}
