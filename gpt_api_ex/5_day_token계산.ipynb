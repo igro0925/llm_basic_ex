{
 "cells": [
  {
   "cell_type": "code",
   "execution_count": 1,
   "id": "7de6de29",
   "metadata": {},
   "outputs": [],
   "source": [
    "import os\n",
    "from dotenv import load_dotenv\n",
    "\n",
    "# .env 파일에 저장된 환경변수 로드\n",
    "load_dotenv(override=True)\n",
    "OPENAI_API_KEY = os.getenv(\"OPENAI_API_KEY\")\n",
    "\n",
    "\n",
    "from openai import OpenAI\n",
    "\n",
    "# openai api 인증 및 openai 객체 생성\n",
    "client = OpenAI(api_key=OPENAI_API_KEY)"
   ]
  },
  {
   "cell_type": "markdown",
   "id": "9ea05149",
   "metadata": {},
   "source": [
    "# 토큰 계산하기"
   ]
  },
  {
   "cell_type": "code",
   "execution_count": 2,
   "id": "4d73118e",
   "metadata": {},
   "outputs": [
    {
     "name": "stdout",
     "output_type": "stream",
     "text": [
      "입력 메시지의 토큰 수: 24\n"
     ]
    }
   ],
   "source": [
    "import tiktoken\n",
    "\n",
    "# 예시 모델 지정\n",
    "model = \"gpt-4o-mini\"  # 또는 \"gpt-4-turbo\", \"gpt-3.5-turbo\", 등\n",
    "\n",
    "# 토크나이저 불러오기\n",
    "encoding = tiktoken.encoding_for_model(model)\n",
    "\n",
    "# 메시지 (예: ChatGPT 형태)\n",
    "messages = [\n",
    "    {\"role\": \"system\", \"content\": \"You are a helpful assistant.\"},\n",
    "    {\"role\": \"user\", \"content\": \"Tell me about quantum computing.\"}\n",
    "]\n",
    "\n",
    "# 메시지를 하나의 문자열로 합쳐서 토큰화\n",
    "num_tokens = 0\n",
    "for message in messages:\n",
    "    num_tokens += 4  # role, name 등 메타데이터 오버헤드\n",
    "    for key, value in message.items():\n",
    "        num_tokens += len(encoding.encode(value))\n",
    "num_tokens += 2  # 응답 생성 시작 토큰 오버헤드\n",
    "\n",
    "print(f\"입력 메시지의 토큰 수: {num_tokens}\")\n"
   ]
  },
  {
   "cell_type": "code",
   "execution_count": 3,
   "id": "3bc83a79",
   "metadata": {},
   "outputs": [
    {
     "name": "stdout",
     "output_type": "stream",
     "text": [
      "CompletionUsage(completion_tokens=112, prompt_tokens=29, total_tokens=141, completion_tokens_details=CompletionTokensDetails(accepted_prediction_tokens=0, audio_tokens=0, reasoning_tokens=0, rejected_prediction_tokens=0), prompt_tokens_details=PromptTokensDetails(audio_tokens=0, cached_tokens=0))\n"
     ]
    }
   ],
   "source": [
    "from openai import OpenAI\n",
    "client = OpenAI()\n",
    "\n",
    "response = client.chat.completions.create(\n",
    "    model=\"gpt-4o-mini\",\n",
    "    messages=[\n",
    "        {\"role\": \"system\", \"content\": \"You are a helpful assistant.\"},\n",
    "        {\"role\": \"user\", \"content\": \"Summarize the history of AI in 3 sentences.\"}\n",
    "    ]\n",
    ")\n",
    "\n",
    "print(response.usage)\n",
    "# 출력 예시:\n",
    "# {\n",
    "#   \"prompt_tokens\": 45,\n",
    "#   \"completion_tokens\": 30,\n",
    "#   \"total_tokens\": 75\n",
    "# }\n"
   ]
  },
  {
   "cell_type": "code",
   "execution_count": null,
   "id": "0122dd44",
   "metadata": {},
   "outputs": [],
   "source": []
  }
 ],
 "metadata": {
  "kernelspec": {
   "display_name": "llm_env",
   "language": "python",
   "name": "python3"
  },
  "language_info": {
   "codemirror_mode": {
    "name": "ipython",
    "version": 3
   },
   "file_extension": ".py",
   "mimetype": "text/x-python",
   "name": "python",
   "nbconvert_exporter": "python",
   "pygments_lexer": "ipython3",
   "version": "3.10.19"
  }
 },
 "nbformat": 4,
 "nbformat_minor": 5
}
